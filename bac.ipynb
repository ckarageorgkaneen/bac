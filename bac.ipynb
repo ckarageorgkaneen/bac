{
 "cells": [
  {
   "cell_type": "markdown",
   "metadata": {
    "id": "CFFz4a7p0BOz",
    "tags": []
   },
   "source": [
    "# bac: exploring BAC firing through biophysical modelling"
   ]
  },
  {
   "cell_type": "markdown",
   "metadata": {
    "tags": []
   },
   "source": [
    "## Background"
   ]
  },
  {
   "cell_type": "markdown",
   "metadata": {},
   "source": [
    "Combinations of temporally paired inward voltage-gated dendritic membrane currents can trigger coincidence detection. This process can operate on different spatial scales, ranging from highly local to whole neuron length."
   ]
  },
  {
   "cell_type": "markdown",
   "metadata": {
    "tags": []
   },
   "source": [
    "### NMDA spike"
   ]
  },
  {
   "cell_type": "markdown",
   "metadata": {},
   "source": [
    "**(Cai et al. 2004, Polsky et al. 2004, Schiller et al. 2000)** showed that synchronous synaptic inputs onto the same dendritic branch (L5 pyramidal neuron) depolarizes the membrane and creates a positive feedback loop of NMDA-mediated $Na^+$ and $Ca^{2+}$ current influx.\n",
    "\n",
    "**(Ariav et al. 2003)** showed a similar phenomenon occuring in CA1 pyramidal neurons based primarily on $Na^+$ current.\n",
    "\n",
    "The NMDA spike dendritic mechanism provides the neuron with the ability to detect coincidences in **neighboring** (short-distanced) synaptic inputs on a very fast timescale."
   ]
  },
  {
   "cell_type": "markdown",
   "metadata": {
    "jp-MarkdownHeadingCollapsed": true,
    "tags": []
   },
   "source": [
    "**Example**: *Dendritic multiplication in pyramidal cell dendritic branches*:\n",
    "<center><img src=\"figures/nmdaspike1.png\"/><img src=\"figures/nmdaspike2.png\"/></center>"
   ]
  },
  {
   "cell_type": "markdown",
   "metadata": {
    "jp-MarkdownHeadingCollapsed": true,
    "tags": []
   },
   "source": [
    "#### NMDA spike notes\n",
    "- (B) Electrodes were activated individually (black traces) and then simultaneously (red traces) and somatic EPSPs were recorded (L5 pyramidal neuron)\n",
    "- (C) Summary plot: predicted versus actual combined responses (L5 pyramidal neuron)\n",
    "- (D) Summation of single-pulse EPSPs in apical oblique dendrites showed a similar overall pattern (CA1 pyramidal cell model) **(Poirazi et al 2003a)**"
   ]
  },
  {
   "cell_type": "markdown",
   "metadata": {
    "tags": []
   },
   "source": [
    "### Coincident pre- and postsynaptic activity"
   ]
  },
  {
   "cell_type": "markdown",
   "metadata": {},
   "source": [
    "**(Stuart & Häusser 2001)** showed that pairing presynaptic input and postsynaptic action potentials at distal synapses on an apical dendrite (L5 pyramidal neurons) can trigger highly non-linear amplification of backpropagating dendritic action potentials via recruitment of voltage-gated $Na^+$ channels.\n",
    "\n",
    "**(Johnston et al. 2000, Magee & Johnston 1997)** observed a similar supralinear interaction in CA1 pyramidal neurons when pairing backpropagating spikes and EPSPs, where the contribution of A-type $K^{+}$ channel inactivation was more prominent.\n",
    "\n",
    "This form of coincidence detection:\n",
    "- exhibits a narrow time window ($\\sim10 ms$)\n",
    "- compares to pairing of APs and EPSPs for induction of synaptic plasticity"
   ]
  },
  {
   "cell_type": "markdown",
   "metadata": {},
   "source": [
    "**Example**: *Coincidence detection of EPSPs and action potentials*:\n",
    "<center><img src=\"figures/epsp_and_ap.png\"/></center>"
   ]
  },
  {
   "cell_type": "markdown",
   "metadata": {
    "tags": []
   },
   "source": [
    "#### Coincidence detection notes\n",
    "- (A) dendritic recording (red pipette) from the distal apical dendrite\n",
    "- (B) top trace: backpropagating action potential initiated by somatic current injection ($2.5 nA$) recorded $720 \\mu m$ from the soma. Middle trace: evoked EPSP recorded at the same dendritic location"
   ]
  },
  {
   "cell_type": "markdown",
   "metadata": {
    "tags": []
   },
   "source": [
    "### BAC firing"
   ]
  },
  {
   "cell_type": "markdown",
   "metadata": {},
   "source": [
    "**(Larkum et al. 1999b, Schiller et al. 1997, Stuart & Häusser 2001)** showed that excitatory synaptic input to the distal apical tuft (L5 pyramidal neurons) that coincides with backpropagation of the action potential ($bAP$) results in a large dendritic $Ca^{2+}$ spike which then propagates toward the soma, causing the axon to fire a burst of action potentials.\n",
    "\n",
    "**(Vetter et al. 2001, Schaefer et al. 2003)** proposed that this coincidence detection mechanism is potentially tunable, either by changing the dendritic morphology or by modulating channel densities and properties."
   ]
  },
  {
   "cell_type": "markdown",
   "metadata": {},
   "source": [
    "**Example**: *Coincidence detection across dendritic compartments*:\n",
    "<center><img src=\"figures/bac_firing.png\"/></center>"
   ]
  },
  {
   "cell_type": "markdown",
   "metadata": {},
   "source": [
    "#### BAC firing notes\n",
    "- (B) Threshold current injection ($5 ms$) into the soma (black) produced an AP that propagated back into the apical dendritic arbor ($bAP$, red trace, middle panel). Combination of somatic and dendritic current injection generates several somatic APs and a dendritic $Ca^2+$ spike (backpropagating action potential–activated $Ca^2+$ spike firing, BAC firing; lower panel). The dashed line indicates the current threshold for a dendritic $Ca^2+$ spike alone.\n",
    "\n",
    "- (C) A dendritic $Ca^2+$ spike was evoked by $2nA$ current injection into the apical dendrite alone. Thus, the $bAP$ reduced the threshold for dendritic $Ca^2+$ spike by $0.9nA$ ($45\\%$ coupling).\n",
    "\n",
    "- (D) A model of channel density distributions and kinetics was constructed to reproduce $BAC$ firing in reconstructed model neurons. The electrical response of the reconstructed model neurons to dendritic and somatic current injection was investigated using the same protocols as in the experiment (A–C). (Upper panels). (Lower panels) Same as upper panels but showing membrane potential in the entire dendritic tree. Voltages are color coded as indicated in the upper left. The position of current injection is indicated by the red (dendritic) and white (somatic) arrowheads. At the time of AP initiation ($4.6 ms$ after the beginning of the somatic current injection), depolarization due to the $bAP$ has already spread into the apical dendrite (in the case of $bAP$ and $BAC$ firing). After $21 ms$, the voltage deflection due to the $bAP$ has decayed back to baseline. Note that the spread of depolarization is almost the same for a dendritically elicited $Ca^{2+}$ spike and $BAC$ firing."
   ]
  },
  {
   "cell_type": "markdown",
   "metadata": {
    "id": "4y_RNml7uHie",
    "tags": []
   },
   "source": [
    "## Exploration"
   ]
  },
  {
   "cell_type": "code",
   "execution_count": 1,
   "metadata": {
    "colab": {
     "base_uri": "https://localhost:8080/"
    },
    "id": "B0VtDTHqz0Ge",
    "outputId": "7f4aef00-1f95-409e-b8ff-e6b313d67258"
   },
   "outputs": [],
   "source": [
    "!pip install ipympl==0.8.8 --quiet\n",
    "!pip install neuron==8.0.2 --quiet"
   ]
  },
  {
   "cell_type": "code",
   "execution_count": 2,
   "metadata": {},
   "outputs": [],
   "source": [
    "try:\n",
    "  import google.colab\n",
    "  IN_COLAB = True\n",
    "except:\n",
    "  IN_COLAB = False\n",
    "if IN_COLAB:\n",
    "  from google.colab import output, widgets\n",
    "  output.enable_custom_widget_manager()"
   ]
  },
  {
   "cell_type": "markdown",
   "metadata": {
    "id": "KrjMzJAt83GM",
    "tags": []
   },
   "source": [
    "### Compile ion channel models (.mod files)"
   ]
  },
  {
   "cell_type": "code",
   "execution_count": 3,
   "metadata": {
    "cellView": "form",
    "id": "iGD02eri9D5c"
   },
   "outputs": [],
   "source": [
    "# @title Create the mod file `SlowCa.mod`\n",
    "# @markdown Execute this cell.\n",
    "with open(\"SlowCa.mod\", \"w\") as file:\n",
    "  file.write(\"\"\"\n",
    "    TITLE HVA Ca2+ current\n",
    "\n",
    "    COMMENT\n",
    "    Uses fixed eca instead of GHK eqn\n",
    "    Based on Reuveni, Friedman, Amitai and Gutnick (1993) J. Neurosci. 13: 4609-4621.\n",
    "    Changed from (AS Oct0899) ca.mod\n",
    "    \n",
    "    Author: Zach Mainen, Salk Institute, 1994, zach@salk.edu\n",
    "    ENDCOMMENT\n",
    "\n",
    "    INDEPENDENT {t FROM 0 TO 1 WITH 1 (ms)}\n",
    "\n",
    "    NEURON {\n",
    "        SUFFIX sca\n",
    "        USEION ca READ eca WRITE ica\n",
    "        RANGE m, h, gca, gbar\n",
    "        RANGE minf, hinf, mtau, htau, inactF, actF\n",
    "        GLOBAL q10, temp, tadj, vmin, vmax, vshift\n",
    "    }\n",
    "\n",
    "    UNITS {\n",
    "        (mA) = (milliamp)\n",
    "        (mV) = (millivolt)\n",
    "        (pS) = (picosiemens)\n",
    "        (um) = (micron)\n",
    "        FARADAY = (faraday) (coulomb)\n",
    "        R = (k-mole) (joule/degC)\n",
    "        PI = (pi) (1)\n",
    "    }\n",
    "\n",
    "    PARAMETER {\n",
    "        inactF = 3\n",
    "        actF = 1\n",
    "        gbar = 0.1 (pS/um2) : 0.12 mho/cm2\n",
    "        vshift = 0 (mV) : voltage shift (affects all)\n",
    "\n",
    "        cao = 2.5 (mM) : external ca concentration\n",
    "        cai (mM)\n",
    "\n",
    "        temp = 23 (degC) : original temp \n",
    "        q10 = 2.3 : temperature sensitivity\n",
    "\n",
    "        v (mV)\n",
    "        dt (ms)\n",
    "        celsius (degC)\n",
    "        vmin = -120\t(mV)\n",
    "        vmax = 100 (mV)\n",
    "    }\n",
    "\n",
    "    ASSIGNED {\n",
    "        ica (mA/cm2)\n",
    "        gca (pS/um2)\n",
    "        eca (mV)\n",
    "        minf\n",
    "        hinf\n",
    "        mtau (ms)\n",
    "        htau (ms)\n",
    "        tadj\n",
    "    }\n",
    "\n",
    "    STATE { m h }\n",
    "\n",
    "    INITIAL { \n",
    "        trates(v+vshift)\n",
    "        m = minf\n",
    "        h = hinf\n",
    "    }\n",
    "\n",
    "    BREAKPOINT {\n",
    "        SOLVE states\n",
    "        gca = tadj*gbar*m*m*h\n",
    "        ica = (1e-4) * gca * (v - eca)\n",
    "    } \n",
    "\n",
    "    LOCAL mexp, hexp\n",
    "\n",
    "    PROCEDURE states() {\n",
    "        trates(v+vshift)\n",
    "        m = m + mexp*(minf-m)\n",
    "        h = h + hexp*(hinf-h)\n",
    "        VERBATIM\n",
    "        return 0;\n",
    "        ENDVERBATIM\n",
    "    }\n",
    "\n",
    "    PROCEDURE trates(v) {\n",
    "        LOCAL tinc\n",
    "        TABLE minf, mexp, hinf, hexp\n",
    "        DEPEND dt, celsius, temp, inactF\n",
    "\n",
    "        FROM vmin TO vmax WITH 199\n",
    "\n",
    "        rates(v): not consistently executed from here if usetable == 1\n",
    "\n",
    "        tadj = q10^((celsius - temp)/10)\n",
    "        tinc = -dt * tadj\n",
    "\n",
    "        mexp = 1 - exp(tinc/mtau)\n",
    "        hexp = 1 - exp(tinc/htau)\n",
    "    }\n",
    "\n",
    "    PROCEDURE rates(vm) {  \n",
    "        LOCAL a, b\n",
    "        :-27\n",
    "        :-75\n",
    "        a = 0.055*(-35 - vm)/(exp((-35-vm)/1) - 1)/actF  :3.8\n",
    "        b = 0.94*exp((-75-vm)/17)/actF\n",
    "\n",
    "        mtau = 1/(a+b)\n",
    "        minf = a*mtau\n",
    "\n",
    "        :\"h\" inactivation \n",
    "\n",
    "        a = 0.000457*exp((-13-vm)/50)/inactF\n",
    "        b = 0.0065/(exp((-vm-15)/28) + 1)/inactF\n",
    "\n",
    "        htau = 1/(a+b) : originally *1\n",
    "        hinf = a*htau\n",
    "    }\n",
    "\n",
    "    FUNCTION efun(z) {\n",
    "        if (fabs(z) < 1e-4) {\n",
    "        efun = 1 - z/2\n",
    "        }else{\n",
    "        efun = z/(exp(z) - 1)\n",
    "        }\n",
    "    }\n",
    "  \"\"\")"
   ]
  },
  {
   "cell_type": "code",
   "execution_count": 4,
   "metadata": {
    "cellView": "form",
    "id": "tJ_reGGI85zv"
   },
   "outputs": [],
   "source": [
    "# @title Create the mod file `cad.mod`\n",
    "# @markdown Execute this cell.\n",
    "with open(\"cad.mod\", \"w\") as file:\n",
    "  file.write(\"\"\"\n",
    "\n",
    "    TITLE decay of internal calcium concentration\n",
    "    \n",
    "    COMMENT\n",
    "    : Internal calcium concentration due to calcium currents and pump.\n",
    "    : Differential equations.\n",
    "    :\n",
    "    : Simple model of ATPase pump with 3 kinetic constants (Destexhe 92)\n",
    "    :     Cai + P <-> CaP -> Cao + P  (k1,k2,k3)\n",
    "    : A Michaelis-Menten approximation is assumed, which reduces the complexity\n",
    "    : of the system to 2 parameters: \n",
    "    :       kt = <tot enzyme concentration> * k3  -> TIME CONSTANT OF THE PUMP\n",
    "    :\tkd = k2/k1 (dissociation constant)    -> EQUILIBRIUM CALCIUM VALUE\n",
    "    : The values of these parameters are chosen assuming a high affinity of \n",
    "    : the pump to calcium and a low transport capacity (cfr. Blaustein, \n",
    "    : TINS, 11: 438, 1988, and references therein).  \n",
    "    :\n",
    "    : Units checked using \"modlunit\" -> factor 10000 needed in ca entry\n",
    "    :\n",
    "    : VERSION OF PUMP + DECAY (decay can be viewed as simplified buffering)\n",
    "    :\n",
    "    : All variables are range variables\n",
    "    :\n",
    "    : adopted from the lower model by AS 102199\n",
    "    :\n",
    "    : This mechanism was published in:  Destexhe, A. Babloyantz, A. and \n",
    "    : Sejnowski, TJ.  Ionic mechanisms for intrinsic slow oscillations in\n",
    "    : thalamic relay neurons. Biophys. J. 65: 1538-1552, 1993)\n",
    "    :\n",
    "    : Written by Alain Destexhe, Salk Institute, Nov 12, 1992\n",
    "    :\n",
    "    ENDCOMMENT\n",
    "\n",
    "    INDEPENDENT {t FROM 0 TO 1 WITH 1 (ms)}\n",
    "\n",
    "    NEURON {\n",
    "        SUFFIX cad\n",
    "        USEION ca READ ica, cai WRITE cai\n",
    "        RANGE ca\n",
    "        GLOBAL depth,cainf,taur\n",
    "    }\n",
    "\n",
    "    UNITS {\n",
    "        (molar) = (1/liter)  : moles do not appear in units\n",
    "        (mM) = (millimolar)\n",
    "        (um) = (micron)\n",
    "        (mA) = (milliamp)\n",
    "        (msM)\t= (ms mM)\n",
    "        FARADAY = (faraday) (coulomb)\n",
    "    }\n",
    "\n",
    "    PARAMETER {\n",
    "        depth\t= .1\t(um) : depth of shell\n",
    "        taur = 100\t(ms) : rate of calcium removal, changed from 200 to 80 (H.Markram)\n",
    "        cainf\t= 100e-6 (mM)\n",
    "        cai (mM)\n",
    "    }\n",
    "\n",
    "    STATE {\n",
    "        ca (mM) \n",
    "    }\n",
    "\n",
    "    INITIAL {\n",
    "        ca = cainf\n",
    "    }\n",
    "\n",
    "    ASSIGNED {\n",
    "      ica  (mA/cm2)\n",
    "      drive_channel\t(mM/ms)\n",
    "    }\n",
    "\n",
    "    BREAKPOINT {\n",
    "        SOLVE state METHOD euler\n",
    "    }\n",
    "\n",
    "    DERIVATIVE state { \n",
    "        drive_channel =  - (10000) * ica / (2 * FARADAY * depth)\n",
    "        if (drive_channel <= 0.) { drive_channel = 0. }\t: cannot pump inward\n",
    "\n",
    "        ca' = drive_channel + (cainf-ca)/taur\n",
    "        cai = ca\n",
    "    }\n",
    "  \"\"\")"
   ]
  },
  {
   "cell_type": "code",
   "execution_count": 5,
   "metadata": {
    "colab": {
     "base_uri": "https://localhost:8080/"
    },
    "id": "_qZn0-7T9bwY",
    "outputId": "55220013-ba4b-4141-d14c-7c53dd1d956e"
   },
   "outputs": [
    {
     "name": "stdout",
     "output_type": "stream",
     "text": [
      "/home/csk/Insync/ckarageorgkaneen@gmail.com/Google Drive/ΠΜΣ ΝΕΥΡΟΕΠΙΣΤΗΜΕΣ/ΜΑΘΗΜΑΤΑ/2ο Εξάμηνο/NEURO 208 - Αρχές Μοντελοποίησης Νευρικών Κυκλωμάτων/PROJECTS/bac\n",
      "Mod files: \"./cad.mod\" \"./SlowCa.mod\"\n",
      "\n",
      "Creating x86_64 directory for .o files.\n",
      "\n",
      "COBJS=''\n",
      " -> \u001b[32mCompiling\u001b[0m mod_func.c\n",
      "gcc -O2   -I.   -I/home/csk/miniconda3/envs/neuro-208-env/lib/python3.9/site-packages/neuron/.data/include  -I/nrnwheel/openmpi/include -fPIC -c mod_func.c -o mod_func.o\n",
      " -> \u001b[32mNMODL\u001b[0m ../cad.mod\n",
      "(cd \"..\"; MODLUNIT=/home/csk/miniconda3/envs/neuro-208-env/lib/python3.9/site-packages/neuron/.data/share/nrn/lib/nrnunits.lib /home/csk/miniconda3/envs/neuro-208-env/lib/python3.9/site-packages/neuron/.data/bin/nocmodl cad.mod -o \"/home/csk/Insync/ckarageorgkaneen@gmail.com/Google Drive/ΠΜΣ ΝΕΥΡΟΕΠΙΣΤΗΜΕΣ/ΜΑΘΗΜΑΤΑ/2ο Εξάμηνο/NEURO 208 - Αρχές Μοντελοποίησης Νευρικών Κυκλωμάτων/PROJECTS/bac/x86_64\")\n",
      " -> \u001b[32mNMODL\u001b[0m ../SlowCa.mod\n",
      "(cd \"..\"; MODLUNIT=/home/csk/miniconda3/envs/neuro-208-env/lib/python3.9/site-packages/neuron/.data/share/nrn/lib/nrnunits.lib /home/csk/miniconda3/envs/neuro-208-env/lib/python3.9/site-packages/neuron/.data/bin/nocmodl SlowCa.mod -o \"/home/csk/Insync/ckarageorgkaneen@gmail.com/Google Drive/ΠΜΣ ΝΕΥΡΟΕΠΙΣΤΗΜΕΣ/ΜΑΘΗΜΑΤΑ/2ο Εξάμηνο/NEURO 208 - Αρχές Μοντελοποίησης Νευρικών Κυκλωμάτων/PROJECTS/bac/x86_64\")\n",
      "Translating cad.mod into /home/csk/Insync/ckarageorgkaneen@gmail.com/Google Drive/ΠΜΣ ΝΕΥΡΟΕΠΙΣΤΗΜΕΣ/ΜΑΘΗΜΑΤΑ/2ο Εξάμηνο/NEURO 208 - Αρχές Μοντελοποίησης Νευρικών Κυκλωμάτων/PROJECTS/bac/x86_64/cad.c\n",
      "Translating SlowCa.mod into /home/csk/Insync/ckarageorgkaneen@gmail.com/Google Drive/ΠΜΣ ΝΕΥΡΟΕΠΙΣΤΗΜΕΣ/ΜΑΘΗΜΑΤΑ/2ο Εξάμηνο/NEURO 208 - Αρχές Μοντελοποίησης Νευρικών Κυκλωμάτων/PROJECTS/bac/x86_64/SlowCa.c\n",
      "Thread Safe\n",
      "Notice: VERBATIM blocks are not thread safe\n",
      "Notice: This mechanism cannot be used with CVODE\n",
      "Notice: Assignment to the GLOBAL variable, \"tadj\", is not thread safe\n",
      " -> \u001b[32mCompiling\u001b[0m cad.c\n",
      "gcc -O2   -I\"..\" -I.   -I/home/csk/miniconda3/envs/neuro-208-env/lib/python3.9/site-packages/neuron/.data/include  -I/nrnwheel/openmpi/include -fPIC -c cad.c -o cad.o\n",
      " -> \u001b[32mCompiling\u001b[0m SlowCa.c\n",
      "gcc -O2   -I\"..\" -I.   -I/home/csk/miniconda3/envs/neuro-208-env/lib/python3.9/site-packages/neuron/.data/include  -I/nrnwheel/openmpi/include -fPIC -c SlowCa.c -o SlowCa.o\n",
      " => \u001b[32mLINKING\u001b[0m shared library ./libnrnmech.so\n",
      "g++ -O2 -DVERSION_INFO='8.0.2' -std=c++11 -shared -fPIC  -I /home/csk/miniconda3/envs/neuro-208-env/lib/python3.9/site-packages/neuron/.data/include -o ./libnrnmech.so -Wl,-soname,libnrnmech.so \\\n",
      "  ./mod_func.o ./cad.o ./SlowCa.o  -L/home/csk/miniconda3/envs/neuro-208-env/lib/python3.9/site-packages/neuron/.data/lib -lnrniv -Wl,-rpath,/home/csk/miniconda3/envs/neuro-208-env/lib/python3.9/site-packages/neuron/.data/lib   \n",
      "rm -f ./.libs/libnrnmech.so ; mkdir -p ./.libs ; cp ./libnrnmech.so ./.libs/libnrnmech.so\n",
      "Successfully created x86_64/special\n"
     ]
    }
   ],
   "source": [
    "# @title Remove old executables and compile with `nrnivmodl`\n",
    "!rm -rf x86_64/\n",
    "!nrnivmodl"
   ]
  },
  {
   "cell_type": "code",
   "execution_count": 6,
   "metadata": {
    "colab": {
     "base_uri": "https://localhost:8080/"
    },
    "id": "usthWgIfzjmM",
    "outputId": "9dd2e2cb-8cba-4113-970c-c8f4d14fc941"
   },
   "outputs": [
    {
     "data": {
      "text/plain": [
       "1.0"
      ]
     },
     "execution_count": 6,
     "metadata": {},
     "output_type": "execute_result"
    }
   ],
   "source": [
    "%matplotlib widget\n",
    "import sys\n",
    "import numpy as np\n",
    "import matplotlib.pyplot as plt\n",
    "from matplotlib.widgets import Slider\n",
    "from matplotlib.widgets import Button\n",
    "from neuron import h\n",
    "def import_neuron_gui():\n",
    "    if 'gui' not in sys.modules:\n",
    "        from neuron import gui\n",
    "h.load_file(\"stdrun.hoc\")"
   ]
  },
  {
   "cell_type": "code",
   "execution_count": 7,
   "metadata": {
    "cellView": "form",
    "id": "bqXB1xt_8Vuh"
   },
   "outputs": [],
   "source": [
    "# @title Make nicer plots -- Execute this cell\n",
    "def mystyle():\n",
    "  \"\"\"\n",
    "  Create custom plotting style.\n",
    "\n",
    "  Returns\n",
    "  -------\n",
    "  my_style : dict\n",
    "      Dictionary with matplotlib parameters.\n",
    "\n",
    "  \"\"\"\n",
    "  # color pallette\n",
    "  style = {\n",
    "      # Use LaTeX to write all text\n",
    "      \"text.usetex\": False,\n",
    "      \"font.family\": \"DejaVu Sans\",\n",
    "      \"font.weight\": \"bold\",\n",
    "      # Use 16pt font in plots, to match 16pt font in document\n",
    "      \"axes.labelsize\": 16,\n",
    "      \"axes.titlesize\": 20,\n",
    "      \"font.size\": 16,\n",
    "      # Make the legend/label fonts a little smaller\n",
    "      \"legend.fontsize\": 14,\n",
    "      \"xtick.labelsize\": 14,\n",
    "      \"ytick.labelsize\": 14,\n",
    "      \"axes.linewidth\": 2.5,\n",
    "      \"lines.markersize\": 10.0,\n",
    "      \"lines.linewidth\": 2.5,\n",
    "      \"xtick.major.width\": 2.2,\n",
    "      \"ytick.major.width\": 2.2,\n",
    "      \"axes.labelweight\": \"bold\",\n",
    "      \"axes.spines.right\": False,\n",
    "      \"axes.spines.top\": False\n",
    "  }\n",
    "\n",
    "  return style\n",
    "\n",
    "\n",
    "plt.style.use(\"seaborn-colorblind\")\n",
    "plt.rcParams.update(mystyle())"
   ]
  },
  {
   "cell_type": "markdown",
   "metadata": {
    "id": "8yPtsBbmz7lA",
    "tags": []
   },
   "source": [
    "### Create the dendritic morphology"
   ]
  },
  {
   "cell_type": "code",
   "execution_count": 8,
   "metadata": {},
   "outputs": [],
   "source": [
    "class Section:\n",
    "    def __init__(self, name, diam, L, Ra, cm, nseg, gl, el):\n",
    "        self.section = h.Section(name=name)\n",
    "        self.section.diam = diam  # um\n",
    "        self.section.L = L  # um\n",
    "        self.section.Ra = Ra  # Axial resistance in Ohm * cm\n",
    "        self.section.cm = cm  # specific membrane capacitance, capacitance per unit of membrane, uF/cm^2\n",
    "        self.section.nseg = nseg  # number of segments (actual compartments)\n",
    "        self.gl = gl  # Leak conductance in S/cm2\n",
    "        self.el = el  # Reversal potential in mV\n",
    "    def __call__(self, pos=None):\n",
    "        if pos is None:\n",
    "            return self.section\n",
    "        segment = self.section(pos)\n",
    "        return segment\n",
    "    def connect(self, segment, pos):\n",
    "        return self.section.connect(segment, pos)\n",
    "\n",
    "\n",
    "class Soma(Section):\n",
    "    def __init__(self, *args, **kwargs):\n",
    "        gnabar = kwargs.pop('gnabar')\n",
    "        gkbar = kwargs.pop('gkbar')\n",
    "        super().__init__(*args, **kwargs)\n",
    "        # Insert the Hodgkin-Huxley channels (including leak)\n",
    "        self.section.insert('hh')\n",
    "        for seg in self.section: \n",
    "            seg.hh.gnabar = gnabar  # Sodium conductance in S/cm2 0.12\n",
    "            seg.hh.gkbar = gkbar  # Potassium conductance in S/cm2 0.36\n",
    "            seg.hh.gl = self.gl  # Leak conductance in S/cm2\n",
    "            seg.hh.el = self.el  # Leak reversal potential in mV\n",
    "\n",
    "\n",
    "class Dendrite(Section):\n",
    "    def __init__(self, *args, **kwargs):\n",
    "        super().__init__(*args, **kwargs)\n",
    "        # Insert passive (leak) channels\n",
    "        self.section.insert('pas')      \n",
    "        for seg in self.section:\n",
    "            seg.pas.g = self.gl\n",
    "            seg.pas.e = self.el\n",
    "    def insert_ca_channels(self, gbar):\n",
    "        self.section.insert('cad')\n",
    "        self.section.insert('sca')\n",
    "        for seg in self.section:\n",
    "            seg.sca.gbar = gbar  # leak maximal conductance in S/cm2\n",
    "\n",
    "def visualize_shape():\n",
    "    import_neuron_gui()\n",
    "    return h.Shape()"
   ]
  },
  {
   "cell_type": "code",
   "execution_count": 9,
   "metadata": {
    "id": "OHan2Eu60Z_L"
   },
   "outputs": [],
   "source": [
    "# Compartment parameters\n",
    "trunk_L = 120\n",
    "gl = 1/4000\n",
    "el = -65\n",
    "Ra = 100\n",
    "COMPARTMENT = {\n",
    "    'SOMA': dict(name='soma', diam=20, L=20, Ra=Ra, cm=1, nseg=1, gl=gl, el=el, gnabar=0.12, gkbar=0.025),\n",
    "    'TRUNKS': [\n",
    "        dict(name='trunk0', diam=3, L=trunk_L, Ra=Ra, cm=1, nseg=11, gl=gl, el=el),\n",
    "        dict(name='trunk1', diam=2.5, L=trunk_L, Ra=Ra, cm=1, nseg=11, gl=gl, el=el),\n",
    "        dict(name='trunk2', diam=2, L=trunk_L, Ra=Ra, cm=1, nseg=11, gl=gl, el=el),\n",
    "        dict(name='trunk3', diam=1.5, L=trunk_L, Ra=Ra, cm=1, nseg=11, gl=gl, el=el),\n",
    "        dict(name='trunk4', diam=1.2, L=20, Ra=Ra, cm=1, nseg=11, gl=gl, el=el),\n",
    "    ],\n",
    "    'TUFTS': [\n",
    "        dict(name='tuft0', diam=1.5, L=50, Ra=Ra, cm=1, nseg=11, gl=gl, el=el),\n",
    "        dict(name='tuft1', diam=1, L=100, Ra=Ra, cm=1, nseg=11, gl=gl, el=el),\n",
    "    ],\n",
    "} "
   ]
  },
  {
   "cell_type": "code",
   "execution_count": 10,
   "metadata": {},
   "outputs": [],
   "source": [
    "# Create compartments\n",
    "soma = Soma(**COMPARTMENT['SOMA'])\n",
    "trunks = [Dendrite(**trunkp) for trunkp in COMPARTMENT['TRUNKS']]\n",
    "tufts = [Dendrite(**tuftp) for tuftp in COMPARTMENT['TUFTS']]\n",
    "trunks[4].insert_ca_channels(gbar=5000)"
   ]
  },
  {
   "cell_type": "code",
   "execution_count": 11,
   "metadata": {
    "colab": {
     "base_uri": "https://localhost:8080/"
    },
    "id": "6rVfyWRD6RpY",
    "outputId": "07c9fd7d-ce10-4d8e-d931-3ed142907b60"
   },
   "outputs": [
    {
     "name": "stdout",
     "output_type": "stream",
     "text": [
      "\n",
      "|-|       soma(0-1)\n",
      "  `----------|       trunk0(0-1)\n",
      "              `----------|       trunk1(0-1)\n",
      "                          `----------|       trunk2(0-1)\n",
      "                                      `----------|       trunk3(0-1)\n",
      "                                                  `----------|       trunk4(0-1)\n",
      "                                                              `----------|       tuft0(0-1)\n",
      "                                                              `----------|       tuft1(0-1)\n",
      "\n"
     ]
    },
    {
     "data": {
      "text/plain": [
       "1.0"
      ]
     },
     "execution_count": 11,
     "metadata": {},
     "output_type": "execute_result"
    }
   ],
   "source": [
    "# Create dendritic tree\n",
    "## Connect trunks\n",
    "for i, trunk in enumerate(trunks):\n",
    "    if i == 0:\n",
    "        assert trunk().name() == COMPARTMENT['TRUNKS'][0]['name']\n",
    "        # Connect trunk 0 to `middle` point (0.5) of the soma\n",
    "        trunk.connect(soma(0.5), 0)\n",
    "    else:\n",
    "        prevtrunk = trunks[i-1]\n",
    "        # Connect first point (0) of trunk i to last point (1) of trunk i-1\n",
    "        trunk.connect(prevtrunk(1), 0)\n",
    "## Connect tufts (child branches)\n",
    "for tuft in tufts:\n",
    "    # Connect first point (0) of tuft i to last point (1) of last trunk\n",
    "    tuft.connect(trunks[-1](1), 0)\n",
    "## Print topology\n",
    "h.topology()\n",
    "## Visualize shape in GUI\n",
    "# s = visualize_shape()"
   ]
  },
  {
   "cell_type": "markdown",
   "metadata": {
    "id": "uDAtfSb41jbA",
    "tags": []
   },
   "source": [
    "### Synaptic Stimulation"
   ]
  },
  {
   "cell_type": "code",
   "execution_count": 12,
   "metadata": {},
   "outputs": [],
   "source": [
    "# Simulation parameters\n",
    "tstop = 600  # simulation time (ms)\n",
    "tremove = 20  # first simulation ms (artifacts)\n",
    "h.dt = 0.1  # integration step (ms)\n",
    "vinit = -65  # initial voltage (mV)\n",
    "imin = 0.001  # nA\n",
    "imax = 0.5  # nA\n",
    "slider_istep = 0.003\n",
    "inputs = [\n",
    "    dict(section=soma, amp=imin, delay=200, dur=5),\n",
    "    dict(section=tufts[0], amp=imin, delay=200, dur=5),\n",
    "]\n",
    "record_sections = [soma, trunks[2], trunks[4],]\n",
    "inject_current_kwargs = dict(\n",
    "    inputs=inputs,\n",
    "    record_sections=record_sections,\n",
    ")"
   ]
  },
  {
   "cell_type": "code",
   "execution_count": 13,
   "metadata": {},
   "outputs": [],
   "source": [
    "def inject_current(inputs, record_sections, ipoint=0.5, rpoint=0.5):\n",
    "    ics = []\n",
    "    for inp in inputs:\n",
    "        # Create a current clamp at each section\n",
    "        ic = h.IClamp(inp['section'](ipoint))\n",
    "        ic.amp = inp['amp']  # nA\n",
    "        ic.delay = inp['delay']  # ms\n",
    "        ic.dur = inp['dur']  # ms\n",
    "        ics.append(ic)\n",
    "    t_vec = h.Vector().record(h._ref_t)  # Time stamp vector\n",
    "    record_vec_tuples = []\n",
    "    for i, rsec in enumerate(record_sections):\n",
    "        vsec_vec = h.Vector().record(rsec(rpoint)._ref_v)  # Membrane potential vector\n",
    "        rvec_tup = (vsec_vec, dict(label=rsec().name()))\n",
    "        record_vec_tuples.append(rvec_tup)\n",
    "    # Run the simulation\n",
    "    h.finitialize(vinit)\n",
    "    h.continuerun(tstop)\n",
    "    return t_vec, record_vec_tuples\n",
    "\n",
    "def make_update_input_section_current_cb(input_idx, fig, axis):\n",
    "    def update_current(new_amp):\n",
    "        # Update injection kwargs with new current\n",
    "        inject_current_kwargs['inputs'][input_idx]['amp'] = new_amp\n",
    "        t_vec, record_vec_tuples = inject_current(**inject_current_kwargs)\n",
    "        lines = axis.get_lines()\n",
    "        for i, rvec_tup in enumerate(record_vec_tuples):\n",
    "            rvec = rvec_tup[0]\n",
    "            rvec.remove(0, int(tremove/h.dt))\n",
    "            lines[i].set_ydata(rvec)\n",
    "        axis.relim()\n",
    "        axis.autoscale_view()\n",
    "        fig.canvas.draw_idle()\n",
    "    return update_current\n",
    "\n",
    "def make_btn_reset_cb(sliders):\n",
    "    def btn_reset_cb(event):\n",
    "        for slider in sliders:\n",
    "            slider.reset()\n",
    "    return btn_reset_cb\n",
    "    \n",
    "def plot(t_vec, yvec_tuples, axis):\n",
    "    # Remove the first `tremove` ms to avoid artifacts\n",
    "    t_vec.remove(0, int(tremove/h.dt))\n",
    "    lines = []\n",
    "    for i, yvec_tup in enumerate(yvec_tuples):\n",
    "        if i == 0: color = 'black'\n",
    "        elif i == 1: color = 'red'\n",
    "        else: color = None\n",
    "        yvec = yvec_tup[0]\n",
    "        yvec_kwargs = yvec_tup[1]\n",
    "        if color is not None:\n",
    "            yvec_kwargs['color'] = color\n",
    "        yvec.remove(0, int(tremove/h.dt))\n",
    "        axis.plot(t_vec, yvec, **yvec_kwargs, lw=2)"
   ]
  },
  {
   "cell_type": "markdown",
   "metadata": {
    "tags": []
   },
   "source": [
    "#### Injecting current into dendrite and soma"
   ]
  },
  {
   "cell_type": "code",
   "execution_count": 15,
   "metadata": {
    "tags": []
   },
   "outputs": [
    {
     "data": {
      "application/vnd.jupyter.widget-view+json": {
       "model_id": "5e548f2752174bb5b6d9a40d472c6e64",
       "version_major": 2,
       "version_minor": 0
      },
      "image/png": "[encoded data removed]",
      "text/html": [
       "\n",
       "            <div style=\"display: inline-block;\">\n",
       "                <div class=\"jupyter-widgets widget-label\" style=\"text-align: center;\">\n",
       "                    Figure\n",
       "                </div>\n",
       "                <img src='data:image/png;base64,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' width=800.0/>\n",
       "            </div>\n",
       "        "
      ],
      "text/plain": [
       "Canvas(toolbar=Toolbar(toolitems=[('Home', 'Reset original view', 'home', 'home'), ('Back', 'Back to previous …"
      ]
     },
     "metadata": {},
     "output_type": "display_data"
    }
   ],
   "source": [
    "t_vec, record_vec_tuples = inject_current(**inject_current_kwargs)\n",
    "# Create the figure and the line that we will manipulate\n",
    "fig, axis = plt.subplots(figsize=(8, 6))\n",
    "axis.set_xlabel('time (ms)')\n",
    "axis.set_ylabel('mV')\n",
    "plot(t_vec=t_vec, yvec_tuples=record_vec_tuples, axis=axis)\n",
    "plt.legend()\n",
    "sliders = []\n",
    "# Add sliders\n",
    "for i, inp in enumerate(inject_current_kwargs['inputs']):\n",
    "    label = f\"{inp['section']().name()} (nA)\"\n",
    "    callback = make_update_input_section_current_cb(input_idx=i, fig=fig, axis=axis)\n",
    "    # Adjust the main plot to make room for the slider\n",
    "    plt.subplots_adjust(bottom=0.25)\n",
    "    # Create a horizontal slider\n",
    "    islider = Slider(\n",
    "        ax=plt.axes([0.2, (i+1)*0.05, 0.65, 0.03]),\n",
    "        label=label,\n",
    "        valmin=imin,\n",
    "        valmax=imax,\n",
    "        valstep=slider_istep,\n",
    "        valinit=imin,\n",
    "    )\n",
    "    islider.on_changed(callback)\n",
    "    sliders.append(islider)\n",
    "# Create a reset button\n",
    "resetax = plt.axes([0.85, 0.15, 0.1, 0.04])\n",
    "button = Button(resetax, 'Reset', hovercolor='lime')\n",
    "button.on_clicked(make_btn_reset_cb(sliders))\n",
    "plt.show()"
   ]
  },
  {
   "cell_type": "markdown",
   "metadata": {},
   "source": [
    "Keeping the somatic current at $\\sim 0nA$ and adjusting the dendritic current yields the following thresholds:\n",
    "- $\\sim 0.21 nA$, that triggers a somatic spike (AP)\n",
    "- $\\sim 0.285 nA$, that triggers a dendritic $Ca^{2+}$ spike (see [fig. C](#BAC-firing))  which initiates a somatic spike (AP) burst\n",
    "\n",
    "Whereas, as **(Larkum et al. 1999b, Schiller et al. 1997, Stuart & Häusser 2001)** showed (see above, [fig. B, D](#BAC-firing)), increasing the somatic current enough to trigger a (somatic) spike causes a $bAP$, which decreases the dendritic $Ca^{2+}$ spike threshold (and thus facilitates $BAC$ firing).\n",
    "\n",
    "For example, adjusting the somatic current to $0.100nA$ changes the $Ca^{2+}$ spike threshold to $\\sim 0.155nA$. Thus, the $bAP$ reduced the spike threshold by $\\sim 0.130nA$. That is a $0.285/0.130 = \\sim 0.45 \\%$ coupling), thus verifying the experimental coupling (see [notes above](#BAC-firing-notes))."
   ]
  },
  {
   "cell_type": "markdown",
   "metadata": {
    "tags": []
   },
   "source": [
    "#### Adding extra dendrites"
   ]
  },
  {
   "cell_type": "markdown",
   "metadata": {},
   "source": [
    "Let's add two new trunks with a quarter of the axial resistance:"
   ]
  },
  {
   "cell_type": "code",
   "execution_count": 16,
   "metadata": {},
   "outputs": [
    {
     "name": "stdout",
     "output_type": "stream",
     "text": [
      "\n",
      "|-|       soma(0-1)\n",
      "  `----------|       trunk0(0-1)\n",
      "              `----------|       trunk1(0-1)\n",
      "                          `----------|       trunk2(0-1)\n",
      "                                      `----------|       trunk3(0-1)\n",
      "                                                  `----------|       trunk4(0-1)\n",
      "                                                              `----------|       tuft0(0-1)\n",
      "                                                              `----------|       tuft1(0-1)\n",
      "                                      `----------|       trunk5(0-1)\n",
      "                                                  `----------|       trunk6(0-1)\n",
      "\n"
     ]
    },
    {
     "data": {
      "text/plain": [
       "1.0"
      ]
     },
     "execution_count": 16,
     "metadata": {},
     "output_type": "execute_result"
    }
   ],
   "source": [
    "trunk5 = Dendrite(name='trunk5', diam=1.2, L=trunk_L, Ra=Ra/4, cm=1, nseg=11, gl=gl, el=el)\n",
    "trunk6 = Dendrite(name='trunk6', diam=1.2, L=trunk_L, Ra=Ra/4, cm=1, nseg=11, gl=gl, el=el)\n",
    "trunk5.connect(trunks[2](1), 0)\n",
    "trunk6.connect(trunk5(1), 0)\n",
    "# Print topology\n",
    "h.topology()\n",
    "# Visualize shape in GUI\n",
    "# s = visualize_shape()"
   ]
  },
  {
   "cell_type": "markdown",
   "metadata": {},
   "source": [
    "After connecting the above trunks to the middle of our neuron (by running the above cell):\n",
    "1. **Click the reset button to the above interactive simulation**\n",
    "2. **Adjust the dendritic current**\n",
    "3. **Find the new thresholds**"
   ]
  },
  {
   "cell_type": "markdown",
   "metadata": {},
   "source": [
    "As expected, adding a dendritic branch (with a relatively low axial resistance) alters the aforementioned thresholds due to increased attenuation towards the new compartments:\n",
    "- $\\sim 0.21nA \\rightarrow 0.258 nA$, that triggers a somatic spike (AP)\n",
    "- $\\sim 0.285nA \\rightarrow 0.334 nA$, that triggers a dendritic $Ca^{2+}$ spike (see [fig. C](#BAC-firing))\n",
    "\n",
    "If we inject a $0.1nA$ into the soma, as before, the $Ca^{2+}$ spike threshold also changes as such: $\\sim 0.155nA \\rightarrow 0.247nA$. Quite close to the spike threshold! Interestingly, the number of somatic burst spikes is decreased from four to two.\n",
    "\n",
    "Such observations verify that morphological variance does indeed affect processes like coincidence detection."
   ]
  },
  {
   "cell_type": "markdown",
   "metadata": {
    "id": "JN9jSfSAIEW4",
    "tags": []
   },
   "source": [
    "### References"
   ]
  },
  {
   "cell_type": "markdown",
   "metadata": {},
   "source": [
    "1. **London M, Häusser M.** (2005) Dendritic computation. Annu Rev Neurosci. 28:503-32. doi: [10.1146/annurev.neuro.28.061604.135703](https://doi.org/10.1146/annurev.neuro.28.061604.135703)\n",
    "2.  **Larkum, M.** (2013). A cellular mechanism for cortical associations: an organizing principle for the cerebral cortex. Trends in neurosciences, 36(3), 141-151. doi: [10.1016/j.tins.2012.11.006](https://doi.org/10.1016/j.tins.2012.11.006)"
   ]
  }
 ],
 "metadata": {
  "colab": {
   "collapsed_sections": [],
   "name": "bac.ipynb",
   "provenance": []
  },
  "kernelspec": {
   "display_name": "Python 3",
   "language": "python",
   "name": "python3"
  },
  "language_info": {
   "codemirror_mode": {
    "name": "ipython",
    "version": 3
   },
   "file_extension": ".py",
   "mimetype": "text/x-python",
   "name": "python",
   "nbconvert_exporter": "python",
   "pygments_lexer": "ipython3",
   "version": "3.9.7"
  }
 },
 "nbformat": 4,
 "nbformat_minor": 4
}
